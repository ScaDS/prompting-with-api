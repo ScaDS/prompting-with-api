{
 "cells": [
  {
   "cell_type": "code",
   "execution_count": 49,
   "id": "5e182fd2-6362-425a-aaf2-930aba0adf66",
   "metadata": {},
   "outputs": [
    {
     "data": {
      "application/vnd.jupyter.widget-view+json": {
       "model_id": "1473140f1407479989365a1d26020746",
       "version_major": 2,
       "version_minor": 0
      },
      "text/plain": [
       "HTML(value=\"\\n<style>\\n    .background-container { \\n      background-image: url('bg.png');\\n      background-…"
      ]
     },
     "metadata": {},
     "output_type": "display_data"
    },
    {
     "data": {
      "application/vnd.jupyter.widget-view+json": {
       "model_id": "0fd9b66474bd458e96af83886efc320d",
       "version_major": 2,
       "version_minor": 0
      },
      "text/plain": [
       "VBox(children=(HBox(children=(Button(description='Bevölkerungszahl', layout=Layout(height='40px', margin='5px …"
      ]
     },
     "metadata": {},
     "output_type": "display_data"
    }
   ],
   "source": [
    "from openai import OpenAI\n",
    "from ipywidgets import widgets, Layout, Button, VBox, Textarea, HBox, HTML\n",
    "from IPython.display import display, Markdown\n",
    "import os\n",
    "\n",
    "# Basis-Layout-Optionen\n",
    "base_layout = Layout(display='flex', justify_content='center', align_items='center')\n",
    "\n",
    "# Stil-Optionen für Widgets\n",
    "button_layout = Layout(width='150px', height='40px', margin='5px 10px 5px 10px')\n",
    "text_input_layout = Layout(flex='2 1 auto', min_height='auto', margin='10px 0 10px 0')\n",
    "send_button_layout = Layout(flex='0 1 auto', height='auto', margin='10px 0 10px 0')\n",
    "response_output_layout = Layout(width='60%', min_height='auto', overflow='auto', margin='10px 0 10px 0')\n",
    "\n",
    "# CSS für individuelles Styling einschließlich Hintergrundbild\n",
    "css_style = \"\"\"\n",
    "<style>\n",
    "    .background-container { \n",
    "      background-image: url('bg.png');\n",
    "      background-repeat: no-repeat;\n",
    "      background-position: center center; \n",
    "      background-size: cover;\n",
    "      margin: 0; \n",
    "      height: 100vh;\n",
    "      width: 100vw;\n",
    "      overflow: hidden;\n",
    "    }\n",
    "\n",
    "    /* Zusätzliches Styling für das VBox-Container-Widget */\n",
    "    .main-box {\n",
    "      justify-content: center;\n",
    "      align-items: center;\n",
    "      display: flex;\n",
    "      flex-direction: column;\n",
    "      height: 100vh; /* Setzt die Höhe des Containers auf die Höhe des Viewports */\n",
    "      width: 100vw; /* Setzt die Breite des Containers auf die Breite des Viewports */\n",
    "    }\n",
    "    .custom-textarea { background-color: black; color: white; font-family: 'Barlow', sans-serif; border-radius: 5px;}\n",
    "    .example-button { background-color: #0B3653; color: white; font-family: 'Barlow', sans-serif; border-radius: 5px;}\n",
    "    .send-button { background-color: #72B957; color: white; font-family: 'Barlow', sans-serif; border-radius: 5px;}\n",
    "</style>\n",
    "\"\"\"\n",
    "display(HTML(css_style))\n",
    "\n",
    "# Init OpenAI API\n",
    "client = OpenAI()\n",
    "\n",
    "# Funktion zum Senden der Anfrage und Empfangen der Antwort\n",
    "def send_query(b):\n",
    "    message = text_input.value\n",
    "    response = client.chat.completions.create(\n",
    "        model=\"gpt-3.5-turbo\",\n",
    "        messages=[{\"role\": \"user\", \"content\": message}]\n",
    "    )\n",
    "    text = response.choices[0].message.content\n",
    "    response_output.value = text  # Diese Zeile sollte ausreichend sein, um das Antwort-Widget zu aktualisieren\n",
    "\n",
    "# Texteingabefeld\n",
    "text_input = Textarea(placeholder='Geben Sie hier Ihren Text ein', layout=text_input_layout)\n",
    "text_input.add_class('custom-textarea')\n",
    "\n",
    "# Antwortfeld\n",
    "response_output = Textarea(placeholder='Antwort wird hier angezeigt...', layout=response_output_layout)\n",
    "response_output.add_class('custom-textarea')\n",
    "\n",
    "# Senden-Button\n",
    "send_button = Button(description=\"Senden\", layout=send_button_layout)\n",
    "send_button.add_class('send-button')\n",
    "send_button.on_click(send_query)\n",
    "\n",
    "# Beispielprompts\n",
    "example_prompts = [\n",
    "    Button(description=\"Bevölkerungszahl\", layout=button_layout),\n",
    "    Button(description=\"Übersetzung\", layout=button_layout),\n",
    "    Button(description=\"Kochrezept\", layout=button_layout)\n",
    "]\n",
    "\n",
    "def set_prompt_example(b):\n",
    "    example_texts = [\n",
    "        \"Wie viele Menschen leben auf der Erde?\",\n",
    "        \"Übersetze diesen Satz ins Englische: 'Das Leben ist schön.'\",\n",
    "        \"Zeige mir ein Kochrezept für ein Familienessen am Sonntag.\"\n",
    "    ]\n",
    "    text_input.value = example_texts[example_prompts.index(b)]\n",
    "\n",
    "for btn in example_prompts:\n",
    "    btn.add_class('example-button')\n",
    "    btn.on_click(set_prompt_example)\n",
    "\n",
    "# Anordnung der Widgets mit Hintergrundklasse\n",
    "main_box = VBox([\n",
    "    HBox(example_prompts, layout=base_layout),\n",
    "    HTML(value=\"<b>Eingabe:</b>\", style={'margin': '10px'}),\n",
    "    HBox([text_input, send_button], layout=Layout(display='flex', flex_flow='row', align_items='stretch', width='60%')),\n",
    "    HTML(value=\"<b>Ausgabe:</b>\", style={'margin': '10px'}),\n",
    "    response_output\n",
    "], layout=Layout(align_items='center', justify_content='center', width='100%', flex_flow='column', display='flex'))\n",
    "\n",
    "main_box.add_class('main-box')\n",
    "main_box.add_class('background-container') \n",
    "\n",
    "display(main_box)\n"
   ]
  },
  {
   "cell_type": "code",
   "execution_count": null,
   "id": "c6f320d6-a16d-462b-89c0-19c9eae459cb",
   "metadata": {},
   "outputs": [],
   "source": []
  }
 ],
 "metadata": {
  "kernelspec": {
   "display_name": "Python 3 (ipykernel)",
   "language": "python",
   "name": "python3"
  },
  "language_info": {
   "codemirror_mode": {
    "name": "ipython",
    "version": 3
   },
   "file_extension": ".py",
   "mimetype": "text/x-python",
   "name": "python",
   "nbconvert_exporter": "python",
   "pygments_lexer": "ipython3",
   "version": "3.11.5"
  }
 },
 "nbformat": 4,
 "nbformat_minor": 5
}
